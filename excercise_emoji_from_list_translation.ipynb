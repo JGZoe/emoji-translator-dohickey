{
 "cells": [
  {
   "cell_type": "code",
   "execution_count": null,
   "id": "a5f053d7-40d8-43db-8e38-72c1f9ec6d5d",
   "metadata": {},
   "outputs": [],
   "source": [
    "emoji_dict = {\n",
    "    \"happy\": \"😃\",\n",
    "    \"heart\": \"😍\",\n",
    "    \"rotfl\": \"🤣\",\n",
    "    \"smile\": \"😊\",\n",
    "    \"crying\": \"😭\",\n",
    "    \"kiss\": \"😘\",\n",
    "    \"clap\": \"👏\",\n",
    "    \"grin\": \"😁\",\n",
    "    \"fire\": \"🔥\",\n",
    "    \"broken\": \"💔\",\n",
    "    \"think\": \"🤔\",\n",
    "    \"excited\": \"🤩\",\n",
    "    \"boring\": \"🙄\",\n",
    "    \"winking\": \"😉\",\n",
    "    \"ok\": \"👌\",\n",
    "    \"hug\": \"🤗\",\n",
    "    \"cool\": \"😎\",\n",
    "    \"angry\": \"😠\",\n",
    "    \"python\": \"🐍\",\n",
    "}\n",
    "\n",
    "sentence = input(\"Enter a sentence: \")\n",
    "\n",
    "\n",
    "words = sentence.split()\n",
    "translated_sentence = [emoji_dict.get(word, word) for word in words]\n",
    "translated_sentence = \" \".join(translated_sentence)\n",
    "print(translated_sentence)"
   ]
  }
 ],
 "metadata": {
  "kernelspec": {
   "display_name": "Python 3 (ipykernel)",
   "language": "python",
   "name": "python3"
  },
  "language_info": {
   "codemirror_mode": {
    "name": "ipython",
    "version": 3
   },
   "file_extension": ".py",
   "mimetype": "text/x-python",
   "name": "python",
   "nbconvert_exporter": "python",
   "pygments_lexer": "ipython3",
   "version": "3.12.0"
  }
 },
 "nbformat": 4,
 "nbformat_minor": 5
}
